{
 "cells": [
  {
   "cell_type": "code",
   "execution_count": 5,
   "metadata": {},
   "outputs": [
    {
     "name": "stdout",
     "output_type": "stream",
     "text": [
      "The autoreload extension is already loaded. To reload it, use:\n",
      "  %reload_ext autoreload\n"
     ]
    }
   ],
   "source": [
    "%load_ext autoreload\n",
    "%autoreload 2\n",
    "%matplotlib inline"
   ]
  },
  {
   "cell_type": "code",
   "execution_count": 6,
   "metadata": {},
   "outputs": [],
   "source": [
    "import numpy as np\n",
    "import matplotlib\n",
    "from matplotlib import pyplot as plt\n",
    "from collections import defaultdict\n",
    "import re\n",
    "import os"
   ]
  },
  {
   "cell_type": "code",
   "execution_count": 7,
   "metadata": {},
   "outputs": [],
   "source": [
    "def get_lines(filename, regex):\n",
    "    lines = []\n",
    "    with open(filename, 'r') as f:\n",
    "        for line in f.readlines():\n",
    "            match = re.findall(regex, line)\n",
    "            if match:\n",
    "                line = line.strip()\n",
    "                lines.append(line)\n",
    "    return lines"
   ]
  },
  {
   "cell_type": "code",
   "execution_count": 4,
   "metadata": {},
   "outputs": [],
   "source": [
    "def get_train_vals(lines, start, step):\n",
    "    # Example: [2020-02-12 14:25:03,474 INFO] Step 74100/100000; acc:  90.83; ppl:  1.25; xent: 0.22; lr: 0.00007; 122527/26997 tok/s;    111 sec\n",
    "    vals = defaultdict(list)\n",
    "    for i in range(start, len(lines), step):\n",
    "        fields = lines[i].split(';')[1:4]\n",
    "        kv_raw = [field.strip().split(':') for field in fields]\n",
    "        kv = [[k.strip(), float(v.strip())] for k, v in kv_raw]\n",
    "        for k, v in kv:\n",
    "            vals[k].append(v)\n",
    "    return vals"
   ]
  },
  {
   "cell_type": "code",
   "execution_count": 5,
   "metadata": {},
   "outputs": [],
   "source": [
    "def get_valid_vals(lines, start, step):\n",
    "    vals = []\n",
    "    for i in range(start, len(lines), step):\n",
    "        colon_pos = lines[i].rfind(':')\n",
    "        val = float(lines[i][colon_pos+1:].strip())\n",
    "        vals.append(val)\n",
    "    return np.array(vals)"
   ]
  },
  {
   "cell_type": "code",
   "execution_count": 6,
   "metadata": {},
   "outputs": [],
   "source": [
    "# filename = '../slurm/slurm-809323.out'\n",
    "filename_template = '../slurm/slurm-{0}.out'\n",
    "jobids = [792747, 794676, 803054, 809323, 830755]"
   ]
  },
  {
   "cell_type": "code",
   "execution_count": 7,
   "metadata": {},
   "outputs": [
    {
     "name": "stdout",
     "output_type": "stream",
     "text": [
      "1180 1180 1180\n"
     ]
    },
    {
     "data": {
      "text/plain": [
       "(array([1.9 , 1.5 , 1.38]),\n",
       " array([6.68, 4.46, 3.98]),\n",
       " array([34.09, 44.08, 47.3 ]))"
      ]
     },
     "execution_count": 7,
     "metadata": {},
     "output_type": "execute_result"
    }
   ],
   "source": [
    "train_xents = []\n",
    "train_ppls = []\n",
    "train_accs = []\n",
    "for jobid in jobids:\n",
    "    filename = filename_template.format(jobid)\n",
    "    train_lines = get_lines(filename, r'Step [0-9]*/[0-9]*')\n",
    "    part_vals = get_train_vals(train_lines, 0, 1)\n",
    "    train_xents.append(part_vals['xent'])\n",
    "    train_ppls.append(part_vals['ppl'])\n",
    "    train_accs.append(part_vals['acc'])\n",
    "train_xents = np.concatenate(train_xents)\n",
    "train_ppls = np.concatenate(train_ppls)\n",
    "train_accs = np.concatenate(train_accs)\n",
    "print(len(train_xents), len(train_ppls), len(train_accs))\n",
    "train_xents[:3], train_ppls[:3], train_accs[:3]"
   ]
  },
  {
   "cell_type": "code",
   "execution_count": 8,
   "metadata": {},
   "outputs": [
    {
     "data": {
      "text/plain": [
       "array([68.6 , 68.06, 69.82, 69.39, 70.69, 70.36, 70.81, 71.44, 72.37,\n",
       "       71.59])"
      ]
     },
     "execution_count": 8,
     "metadata": {},
     "output_type": "execute_result"
    }
   ],
   "source": [
    "train_accs[30:40]"
   ]
  },
  {
   "cell_type": "code",
   "execution_count": 9,
   "metadata": {},
   "outputs": [
    {
     "name": "stdout",
     "output_type": "stream",
     "text": [
      "1170 1170 1170\n"
     ]
    },
    {
     "data": {
      "text/plain": [
       "(array([1.9 , 1.5 , 1.38]),\n",
       " array([6.68, 4.46, 3.98]),\n",
       " array([34.09, 44.08, 47.3 ]))"
      ]
     },
     "execution_count": 9,
     "metadata": {},
     "output_type": "execute_result"
    }
   ],
   "source": [
    "# Correction for restart\n",
    "i = 30\n",
    "j = 40\n",
    "train_xents = np.concatenate([train_xents[:i], train_xents[j:]])\n",
    "train_ppls = np.concatenate([train_ppls[:i], train_ppls[j:]])\n",
    "train_accs = np.concatenate([train_accs[:i], train_accs[j:]])\n",
    "print(len(train_xents), len(train_ppls), len(train_accs))\n",
    "train_xents[:3], train_ppls[:3], train_accs[:3]"
   ]
  },
  {
   "cell_type": "code",
   "execution_count": 10,
   "metadata": {},
   "outputs": [
    {
     "data": {
      "text/plain": [
       "(117, 117)"
      ]
     },
     "execution_count": 10,
     "metadata": {},
     "output_type": "execute_result"
    }
   ],
   "source": [
    "ppls = []\n",
    "accs = []\n",
    "for jobid in jobids:\n",
    "    filename = filename_template.format(jobid)\n",
    "    validation_lines = get_lines(filename, r'Validation')\n",
    "    part_ppls = get_valid_vals(validation_lines, 0, 2)\n",
    "    part_accs = get_valid_vals(validation_lines, 1, 2)\n",
    "    ppls.append(part_ppls)\n",
    "    accs.append(part_accs)\n",
    "ppls = np.concatenate(ppls)\n",
    "accs = np.concatenate(accs)\n",
    "len(ppls), len(accs)"
   ]
  },
  {
   "cell_type": "code",
   "execution_count": 11,
   "metadata": {},
   "outputs": [],
   "source": [
    "train_xs = np.arange(len(train_ppls))\n",
    "xs = np.arange(len(ppls))"
   ]
  },
  {
   "cell_type": "code",
   "execution_count": 23,
   "metadata": {},
   "outputs": [
    {
     "data": {
      "text/plain": [
       "(81, 83)"
      ]
     },
     "execution_count": 23,
     "metadata": {},
     "output_type": "execute_result"
    },
    {
     "data": {
      "image/png": "[encoded data removed]",
      "text/plain": [
       "<Figure size 864x288 with 2 Axes>"
      ]
     },
     "metadata": {},
     "output_type": "display_data"
    }
   ],
   "source": [
    "plt.style.use('ggplot')\n",
    "\n",
    "fig, ax = plt.subplots(1, 2, figsize=(12, 4))\n",
    "\n",
    "for axis in ax:\n",
    "    axis.set_xlabel('epoch')\n",
    "#     axis.set_xscale('symlog')\n",
    "#     axis.set_xticks([0, 3, 10, 30, 100])\n",
    "#     axis.get_xaxis().set_major_formatter(matplotlib.ticker.ScalarFormatter())\n",
    "\n",
    "start = None\n",
    "end = None\n",
    "\n",
    "ax[0].plot(train_xs[start:end], train_ppls[start:end], label='train')\n",
    "ax[0].plot(10*xs[start:end], ppls[start:end], label='valid')\n",
    "ax[0].set_ylabel('perplexity')\n",
    "ax[0].legend(loc=0)\n",
    "\n",
    "ax[1].plot(train_xs[start:end], train_accs[start:end], label='train')\n",
    "ax[1].plot(10*xs[start:end], accs[start:end], label='valid')\n",
    "ax[1].set_ylabel('accuracy (%)')\n",
    "ax[1].legend(loc=0)\n",
    "\n",
    "ax[1].set_ylim([81, 83])"
   ]
  },
  {
   "cell_type": "code",
   "execution_count": 26,
   "metadata": {},
   "outputs": [
    {
     "data": {
      "text/plain": [
       "82.1222"
      ]
     },
     "execution_count": 26,
     "metadata": {},
     "output_type": "execute_result"
    }
   ],
   "source": [
    "accs[81]"
   ]
  },
  {
   "cell_type": "code",
   "execution_count": 13,
   "metadata": {},
   "outputs": [
    {
     "data": {
      "text/plain": [
       "(117,)"
      ]
     },
     "execution_count": 13,
     "metadata": {},
     "output_type": "execute_result"
    }
   ],
   "source": [
    "train_ppls_avg = train_ppls.reshape(-1, 117).mean(axis=0)\n",
    "train_accs_avg = train_accs.reshape(-1, 117).mean(axis=0)\n",
    "train_ppls_avg.shape"
   ]
  },
  {
   "cell_type": "code",
   "execution_count": 14,
   "metadata": {},
   "outputs": [
    {
     "data": {
      "text/plain": [
       "Text(0, 0.5, 'accuracy (%)')"
      ]
     },
     "execution_count": 14,
     "metadata": {},
     "output_type": "execute_result"
    },
    {
     "data": {
      "image/png": "[encoded data removed]",
      "text/plain": [
       "<Figure size 864x288 with 2 Axes>"
      ]
     },
     "metadata": {},
     "output_type": "display_data"
    }
   ],
   "source": [
    "plt.style.use('ggplot')\n",
    "\n",
    "fig, ax = plt.subplots(1, 2, figsize=(12, 4))\n",
    "\n",
    "for axis in ax:\n",
    "    axis.set_xlabel('epoch')\n",
    "#     axis.set_xscale('symlog')\n",
    "#     axis.set_xticks([0, 3, 10, 30, 100])\n",
    "#     axis.get_xaxis().set_major_formatter(matplotlib.ticker.ScalarFormatter())\n",
    "\n",
    "start = None\n",
    "end = -1\n",
    "\n",
    "ax[0].plot(10*xs[start:end], -(train_ppls[10::10] - ppls[start:end]))\n",
    "# ax[0].plot(10*xs[start:end], -(train_ppls_avg[start:end] - ppls[start:end]))\n",
    "ax[0].set_ylabel('perplexity')\n",
    "\n",
    "ax[1].plot(10*xs[start:end], train_accs[10::10] - accs[start:end])\n",
    "# ax[1].plot(10*xs[start:end], train_accs_avg[start:end] - accs[start:end])\n",
    "ax[1].set_ylabel('accuracy (%)')"
   ]
  },
  {
   "cell_type": "code",
   "execution_count": 15,
   "metadata": {},
   "outputs": [
    {
     "data": {
      "text/plain": [
       "(108, 107)"
      ]
     },
     "execution_count": 15,
     "metadata": {},
     "output_type": "execute_result"
    }
   ],
   "source": [
    "np.argmin(ppls), np.argmax(accs)"
   ]
  },
  {
   "cell_type": "code",
   "execution_count": 16,
   "metadata": {},
   "outputs": [
    {
     "data": {
      "text/plain": [
       "(2.27279, 2.27289)"
      ]
     },
     "execution_count": 16,
     "metadata": {},
     "output_type": "execute_result"
    }
   ],
   "source": [
    "ppls[64], ppls[99]"
   ]
  },
  {
   "cell_type": "code",
   "execution_count": 17,
   "metadata": {},
   "outputs": [
    {
     "data": {
      "text/plain": [
       "(81.9462, 82.1938)"
      ]
     },
     "execution_count": 17,
     "metadata": {},
     "output_type": "execute_result"
    }
   ],
   "source": [
    "accs[64], accs[99]"
   ]
  },
  {
   "cell_type": "code",
   "execution_count": null,
   "metadata": {},
   "outputs": [],
   "source": []
  },
  {
   "cell_type": "code",
   "execution_count": null,
   "metadata": {},
   "outputs": [],
   "source": []
  },
  {
   "cell_type": "code",
   "execution_count": 18,
   "metadata": {},
   "outputs": [],
   "source": [
    "line = '[2020-02-12 14:25:03,474 INFO] Step 74100/100000; acc:  90.83; ppl:  1.25; xent: 0.22; lr: 0.00007; 122527/26997 tok/s;    111 sec'"
   ]
  },
  {
   "cell_type": "code",
   "execution_count": 19,
   "metadata": {},
   "outputs": [
    {
     "data": {
      "text/plain": [
       "[['acc', 90.83], ['ppl', 1.25], ['xent', 0.22]]"
      ]
     },
     "execution_count": 19,
     "metadata": {},
     "output_type": "execute_result"
    }
   ],
   "source": [
    "fields = line.split(';')[1:4]\n",
    "kv_raw = [field.strip().split(':') for field in fields]\n",
    "kv = [[k.strip(), float(v.strip())] for k, v in kv_raw]\n",
    "kv"
   ]
  },
  {
   "cell_type": "code",
   "execution_count": null,
   "metadata": {},
   "outputs": [],
   "source": []
  },
  {
   "cell_type": "markdown",
   "metadata": {},
   "source": [
    "## Risk"
   ]
  },
  {
   "cell_type": "code",
   "execution_count": 8,
   "metadata": {},
   "outputs": [],
   "source": [
    "fname = '../slurm/slurm-840910.out'"
   ]
  },
  {
   "cell_type": "code",
   "execution_count": 15,
   "metadata": {},
   "outputs": [],
   "source": [
    "def get_risk_vals(lines, start, step):\n",
    "    # Example: '[2020-03-10 16:31:33,543 INFO] Dataset 0: base loss = 2883.4; penalty = 53.0'\n",
    "    vals = defaultdict(list)\n",
    "    for i in range(start, len(lines), step):\n",
    "        fields = lines[i].rsplit(':')[1:]\n",
    "        fields = lines[i].split(';')\n",
    "        kv_raw = [field.strip().split('=') for field in fields]\n",
    "        kv = [[k.strip(), float(v.strip())] for k, v in kv_raw]\n",
    "        for k, v in kv:\n",
    "            vals[k].append(v)\n",
    "    return vals"
   ]
  },
  {
   "cell_type": "code",
   "execution_count": 16,
   "metadata": {},
   "outputs": [],
   "source": [
    "risk_lines = get_lines(fname, 'penalty = ')\n",
    "risk_vals = get_risk_vals(risk_lines, 0, 1)"
   ]
  },
  {
   "cell_type": "code",
   "execution_count": 34,
   "metadata": {},
   "outputs": [
    {
     "data": {
      "text/plain": [
       "<contextlib._GeneratorContextManager at 0x7f5e3d520160>"
      ]
     },
     "execution_count": 34,
     "metadata": {},
     "output_type": "execute_result"
    }
   ],
   "source": []
  },
  {
   "cell_type": "code",
   "execution_count": 38,
   "metadata": {},
   "outputs": [
    {
     "name": "stdout",
     "output_type": "stream",
     "text": [
      "74.37, 276.59, 0.00, 3025.75\n",
      "80.52, 242.45, 0.00, 2466.39\n",
      "162.72, 519.55, 0.00, 5753.06\n"
     ]
    }
   ],
   "source": [
    "easy_vals = risk_vals['penalty'][270::3]\n",
    "medium_vals = risk_vals['penalty'][271::3]\n",
    "hard_vals = risk_vals['penalty'][272::3]\n",
    "\n",
    "for vals in [easy_vals, medium_vals, hard_vals]:\n",
    "    vals = np.array(vals)\n",
    "    print(f'{vals.mean():.2f}, {vals.std():.2f}, {vals.min():.2f}, {vals.max():.2f}')"
   ]
  },
  {
   "cell_type": "code",
   "execution_count": 39,
   "metadata": {},
   "outputs": [
    {
     "name": "stdout",
     "output_type": "stream",
     "text": [
      "105.87, 369.72, 0.00, 5753.06\n"
     ]
    }
   ],
   "source": [
    "vals = easy_vals + medium_vals + hard_vals\n",
    "vals = np.array(vals)\n",
    "print(f'{vals.mean():.2f}, {vals.std():.2f}, {vals.min():.2f}, {vals.max():.2f}')"
   ]
  },
  {
   "cell_type": "code",
   "execution_count": 40,
   "metadata": {},
   "outputs": [
    {
     "name": "stdout",
     "output_type": "stream",
     "text": [
      "14.32, 29.39, 0.00, 215.55\n",
      "19.74, 69.49, 0.00, 651.46\n",
      "27.78, 51.64, 0.00, 292.77\n"
     ]
    }
   ],
   "source": [
    "easy_vals = risk_vals['penalty'][:270:3]\n",
    "medium_vals = risk_vals['penalty'][1:270:3]\n",
    "hard_vals = risk_vals['penalty'][2:270:3]\n",
    "\n",
    "for vals in [easy_vals, medium_vals, hard_vals]:\n",
    "    vals = np.array(vals)\n",
    "    print(f'{vals.mean():.2f}, {vals.std():.2f}, {vals.min():.2f}, {vals.max():.2f}')"
   ]
  },
  {
   "cell_type": "code",
   "execution_count": null,
   "metadata": {},
   "outputs": [],
   "source": []
  }
 ],
 "metadata": {
  "kernelspec": {
   "display_name": "Python 3",
   "language": "python",
   "name": "python3"
  },
  "language_info": {
   "codemirror_mode": {
    "name": "ipython",
    "version": 3
   },
   "file_extension": ".py",
   "mimetype": "text/x-python",
   "name": "python",
   "nbconvert_exporter": "python",
   "pygments_lexer": "ipython3",
   "version": "3.7.0"
  }
 },
 "nbformat": 4,
 "nbformat_minor": 4
}
