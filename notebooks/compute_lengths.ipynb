{
 "cells": [
  {
   "cell_type": "code",
   "execution_count": 1,
   "metadata": {},
   "outputs": [],
   "source": [
    "%load_ext autoreload\n",
    "%autoreload 2\n",
    "%matplotlib inline"
   ]
  },
  {
   "cell_type": "code",
   "execution_count": 33,
   "metadata": {},
   "outputs": [],
   "source": [
    "import numpy as np\n",
    "import matplotlib\n",
    "from matplotlib import pyplot as plt\n",
    "import os\n",
    "import pickle\n",
    "from matplotlib.cm import get_cmap"
   ]
  },
  {
   "cell_type": "code",
   "execution_count": 3,
   "metadata": {},
   "outputs": [],
   "source": [
    "folder_path = '/Users/ff/dev/mathematics_dataset-v1.0/train-{0}'\n",
    "difficulties = ['easy', 'medium', 'hard']"
   ]
  },
  {
   "cell_type": "code",
   "execution_count": 4,
   "metadata": {},
   "outputs": [],
   "source": [
    "lengths = {}\n",
    "\n",
    "for i, difficulty in enumerate(difficulties):\n",
    "    lengths[difficulty] = {}\n",
    "\n",
    "    folder = folder_path.format(difficulty)\n",
    "    for filename in sorted(os.listdir(folder)):\n",
    "        #print(os.path.join(folder, filename))\n",
    "        if filename.endswith(\".txt\"):\n",
    "            with open(os.path.join(folder, filename), 'r') as f:\n",
    "                lines = f.read().splitlines()\n",
    "            \n",
    "            lines = lines[::2]\n",
    "\n",
    "            file_lengths = np.zeros(len(lines))\n",
    "            for i,line in enumerate(lines):\n",
    "                if len(line) == 0:\n",
    "                    print('here',lines)\n",
    "                file_lengths[i] = len(line)\n",
    "        lengths[difficulty][filename] = file_lengths"
   ]
  },
  {
   "cell_type": "code",
   "execution_count": 94,
   "metadata": {},
   "outputs": [],
   "source": [
    "#with open('/Users/ff/dev/mlp-project/scripts/data.pickle','wb') as f:\n",
    "#    pickle.dump(lengths, f)"
   ]
  },
  {
   "cell_type": "code",
   "execution_count": 45,
   "metadata": {},
   "outputs": [
    {
     "data": {
      "image/png": "[encoded data removed]",
      "text/plain": [
       "<Figure size 1080x216 with 1 Axes>"
      ]
     },
     "metadata": {
      "needs_background": "light"
     },
     "output_type": "display_data"
    },
    {
     "name": "stdout",
     "output_type": "stream",
     "text": [
      "[(0.12156862745098039, 0.4666666666666667, 0.7058823529411765), (1.0, 0.4980392156862745, 0.054901960784313725), (0.17254901960784313, 0.6274509803921569, 0.17254901960784313)]\n"
     ]
    }
   ],
   "source": [
    "plt.figure(figsize=(15,3))\n",
    "plt.tight_layout()\n",
    "\n",
    "colors= get_cmap('tab10').colors\n",
    "\n",
    "bars = []\n",
    "bar_width = 0.25\n",
    "for i in range(3):\n",
    "    bars.append(np.arange(len(lengths['easy'].keys())) + bar_width * i)\n",
    "\n",
    "\n",
    "for d, difficulty in enumerate(['easy', 'medium', 'hard']):\n",
    "\n",
    "    #print()\n",
    "    #print('**************')\n",
    "    #print(difficulty)\n",
    "    #print('**************')\n",
    "    #print()\n",
    "    for i,task in enumerate(sorted(lengths[difficulty].keys())):\n",
    "        #print(task, lengths[difficulty][task].mean(), lengths[difficulty][task].std())\n",
    "        plt.bar(bars[d][i], lengths[difficulty][task].mean(), width=bar_width, color=colors[d], alpha=1)\n",
    "        \n",
    "#plt.legend(['easy', 'medium', 'hard'])\n",
    "plt.show()"
   ]
  },
  {
   "cell_type": "code",
   "execution_count": 89,
   "metadata": {
    "collapsed": true,
    "jupyter": {
     "outputs_hidden": true,
     "source_hidden": true
    }
   },
   "outputs": [
    {
     "name": "stdout",
     "output_type": "stream",
     "text": [
      "algebra__polynomial_roots_big_src_test.txt algebra__polynomial_roots.txt\n",
      "arithmetic__add_or_sub_big_src_test.txt arithmetic__add_or_sub.txt\n",
      "arithmetic__add_sub_multiple_longer_src_test.txt arithmetic__add_sub_multiple.txt\n",
      "arithmetic__div_big_src_test.txt arithmetic__div.txt\n",
      "arithmetic__mixed_longer_src_test.txt arithmetic__mixed.txt\n",
      "arithmetic__mul_big_src_test.txt arithmetic__mul.txt\n",
      "arithmetic__mul_div_multiple_longer_src_test.txt arithmetic__mul_div_multiple.txt\n",
      "comparison__closest_more_src_test.txt comparison__closest.txt\n",
      "comparison__kth_biggest_more_src_test.txt comparison__kth_biggest.txt\n",
      "comparison__sort_more_src_test.txt comparison__sort.txt\n",
      "measurement__conversion_src_test.txt measurement__conversion.txt\n",
      "numbers__place_value_big_src_test.txt numbers__place_value.txt\n",
      "numbers__round_number_big_src_test.txt numbers__round_number.txt\n",
      "probability__swr_p_level_set_more_samples_src_test.txt probability__swr_p_level_set.txt\n",
      "probability__swr_p_sequence_more_samples_src_test.txt probability__swr_p_sequence.txt\n"
     ]
    }
   ],
   "source": [
    "extr_tasks = {\n",
    "    'algebra__polynomial_roots_big_src_test.txt':['algebra__polynomial_roots.txt'],\n",
    "    'arithmetic__add_or_sub_big_src_test.txt':['arithmetic__add_or_sub.txt'],\n",
    "    'arithmetic__add_sub_multiple_longer_src_test.txt':['arithmetic__add_sub_multiple.txt'],\n",
    "    'arithmetic__div_big_src_test.txt':['arithmetic__div.txt'],\n",
    "    'arithmetic__mixed_longer_src_test.txt':['arithmetic__mixed.txt'],\n",
    "    'arithmetic__mul_big_src_test.txt':['arithmetic__mul.txt'],\n",
    "    'arithmetic__mul_div_multiple_longer_src_test.txt':['arithmetic__mul_div_multiple.txt'],\n",
    "    'comparison__closest_more_src_test.txt':['comparison__closest.txt'],\n",
    "    'comparison__kth_biggest_more_src_test.txt':['comparison__kth_biggest.txt'],\n",
    "    'comparison__sort_more_src_test.txt':['comparison__sort.txt'],\n",
    "    'measurement__conversion_src_test.txt':['measurement__conversion.txt'],\n",
    "    'numbers__place_value_big_src_test.txt':['numbers__place_value.txt'],\n",
    "    'numbers__round_number_big_src_test.txt':['numbers__round_number.txt'],\n",
    "    'probability__swr_p_level_set_more_samples_src_test.txt':['probability__swr_p_level_set.txt'],\n",
    "    'probability__swr_p_sequence_more_samples_src_test.txt':['probability__swr_p_sequence.txt']\n",
    "}\n",
    "\n",
    "inter_tasks = [\n",
    "    'algebra__polynomial_roots_src_test.txt':['algebra__polynomial_roots.txt'],\n",
    "    'arithmetic__add_or_sub_src_test.txt':['arithmetic__add_or_sub.txt'],\n",
    "    'arithmetic__add_sub_multiple_src_test.txt':['arithmetic__add_sub_multiple.txt'],\n",
    "    'arithmetic__div_src_test.txt':['arithmetic__div.txt'],\n",
    "    'arithmetic__mixed_src_test.txt':['arithmetic__mixed.txt'],\n",
    "    'arithmetic__mul_div_multiple_src_test.txt':['arithmetic__mul_div_multiple.txt'],\n",
    "    'arithmetic__mul_src_test.txt':['arithmetic__mul.txt'],\n",
    "    'comparison__closest_src_test.txt':['comparison__closest.txt'],\n",
    "    'comparison__kth_biggest_src_test.txt':['comparison__kth_biggest.txt'],\n",
    "    'comparison__sort_src_test.txt':['comparison__sort.txt'],\n",
    "    'measurement__conversion_src_test.txt':['measurement__conversion.txt'],\n",
    "    'numbers__place_value_src_test.txt':['numbers__place_value.txt'],\n",
    "    'numbers__round_number_src_test.txt':['numbers__round_number.txt'],\n",
    "    'probability__swr_p_level_set_src_test.txt':['probability__swr_p_level_set.txt'],\n",
    "    'probability__swr_p_sequence_src_test.txt':['probability__swr_p_sequence.txt']\n",
    "]"
   ]
  },
  {
   "cell_type": "code",
   "execution_count": 55,
   "metadata": {},
   "outputs": [
    {
     "data": {
      "image/png": "[encoded data removed]",
      "text/plain": [
       "<Figure size 1080x216 with 1 Axes>"
      ]
     },
     "metadata": {
      "needs_background": "light"
     },
     "output_type": "display_data"
    },
    {
     "data": {
      "image/png": "[encoded data removed]",
      "text/plain": [
       "<Figure size 1080x216 with 1 Axes>"
      ]
     },
     "metadata": {
      "needs_background": "light"
     },
     "output_type": "display_data"
    },
    {
     "data": {
      "image/png": "[encoded data removed]",
      "text/plain": [
       "<Figure size 1080x216 with 1 Axes>"
      ]
     },
     "metadata": {
      "needs_background": "light"
     },
     "output_type": "display_data"
    }
   ],
   "source": [
    "#plt.figure(figsize=(15,3))\n",
    "#plt.tight_layout()\n",
    "\n",
    "for d, difficulty in enumerate(['easy', 'medium', 'hard']):\n",
    "    plt.figure(figsize=(15,3))\n",
    "    plt.tight_layout()\n",
    "\n",
    "    l = []\n",
    "    for i,task in enumerate(sorted(lengths[difficulty].keys())):\n",
    "        #print(task, lengths[difficulty][task].mean(), lengths[difficulty][task].std())\n",
    "        l.append(lengths[difficulty][task])\n",
    "    plt.hist(l)\n",
    "    plt.show()"
   ]
  },
  {
   "cell_type": "code",
   "execution_count": 54,
   "metadata": {},
   "outputs": [
    {
     "name": "stdout",
     "output_type": "stream",
     "text": [
      "(666666,)\n"
     ]
    }
   ],
   "source": []
  },
  {
   "cell_type": "code",
   "execution_count": null,
   "metadata": {},
   "outputs": [],
   "source": []
  }
 ],
 "metadata": {
  "kernelspec": {
   "display_name": "Python 3.7.0 64-bit ('pymlp': venv)",
   "language": "python",
   "name": "python37064bitpymlpvenv7daaa6461aa04f2d9982f552caaf5e61"
  },
  "language_info": {
   "codemirror_mode": {
    "name": "ipython",
    "version": 3
   },
   "file_extension": ".py",
   "mimetype": "text/x-python",
   "name": "python",
   "nbconvert_exporter": "python",
   "pygments_lexer": "ipython3",
   "version": "3.7.0"
  }
 },
 "nbformat": 4,
 "nbformat_minor": 4
}
